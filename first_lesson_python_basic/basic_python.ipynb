{
 "cells": [
  {
   "cell_type": "code",
   "execution_count": 7,
   "metadata": {},
   "outputs": [
    {
     "name": "stdout",
     "output_type": "stream",
     "text": [
      "Фразы равной длины\n"
     ]
    }
   ],
   "source": [
    "#Задание 1\n",
    "#Даны 2 переменных, в которых хранятся строки произвольной длины: phrase_1 и phrase_2.\n",
    "#Напишите код, который проверяет какая из этих строк длиннее.\n",
    "\n",
    "phrase_1 = 'Насколько проще было бы писать программы, если бы не заказчики'\n",
    "phrase_2 = 'Насколько проще было бы писать программы, если бы не заказчики'\n",
    "\n",
    "if len(phrase_1)>len(phrase_2):\n",
    "    print('Фраза 1 длиннее фразы 2')\n",
    "elif len(phrase_1) == len(phrase_2):\n",
    "    print('Фразы равной длины')\n",
    "    \n",
    "else:\n",
    "    print('Фраза 2 длиннее фразы 1')\n",
    "    \n"
   ]
  },
  {
   "cell_type": "code",
   "execution_count": 10,
   "metadata": {},
   "outputs": [
    {
     "name": "stdout",
     "output_type": "stream",
     "text": [
      "Год НЕ високосный\n"
     ]
    }
   ],
   "source": [
    "#Дана переменная, в которой хранится четырехзначное число (год).\n",
    "#Необходимо написать программу, которая выведет, является ли данный год високосным или обычным.\n",
    "\n",
    "check_year = 2020\n",
    "\n",
    "if check_year%4 ==0:\n",
    "    print('Год високосный')\n",
    "else: \n",
    "    print('Год НЕ високосный')"
   ]
  },
  {
   "cell_type": "code",
   "execution_count": 4,
   "metadata": {},
   "outputs": [
    {
     "name": "stdout",
     "output_type": "stream",
     "text": [
      "Введите название месяца рождения, для прекращения введите QМай\n",
      "Введите день рождения для прекращения введите Q26\n",
      "Вы Близнец\n"
     ]
    }
   ],
   "source": [
    "#Задание 3\n",
    "#Необходимо написать программу, \n",
    "#которая будет запрашивать у пользователя месяц и дату рождения и выводить соответствующий знак зодиака.\n",
    "\n",
    "Birth_month = input('Введите название месяца рождения, для прекращения введите Q')\n",
    "Birth_day = int(input('Введите день рождения для прекращения введите Q'))\n",
    "    \n",
    "if Birth_month=='Январь':\n",
    "        if Birth_day>=1:\n",
    "            if Birth_day<=19:\n",
    "                print('Вы Козерог')\n",
    "            elif Birth_day>19:\n",
    "                print('Вы Водолей')\n",
    "        if Birth_day>31:\n",
    "            print('Вы ошиблись с числом')\n",
    "if Birth_month=='Февраль':\n",
    "        if Birth_day>=1:\n",
    "            if Birth_day<=18:\n",
    "                print('Вы Водолей')\n",
    "            elif Birth_day>19:\n",
    "                print('Вы Рыба')\n",
    "        if Birth_day>28:\n",
    "            print('Вы ошиблись с числом')\n",
    "if Birth_month=='Март':\n",
    "        if Birth_day>=1:\n",
    "            if Birth_day<=19:\n",
    "                print('Вы Рыба')\n",
    "            elif Birth_day>20:\n",
    "                print('Вы Овен')\n",
    "        if Birth_day>31:\n",
    "            print('Вы ошиблись с числом')\n",
    "if Birth_month=='Апрель':\n",
    "        if Birth_day>=1:\n",
    "            if Birth_day<=20:\n",
    "                print('Вы Овен')\n",
    "            elif Birth_day>20:\n",
    "                print('Вы Телец')\n",
    "        if Birth_day>30:\n",
    "            print('Вы ошиблись с числом')\n",
    "if Birth_month=='Май':\n",
    "        if Birth_day>=1:\n",
    "            if Birth_day<=20:\n",
    "                print('Вы Телец')\n",
    "            elif Birth_day>20:\n",
    "                print('Вы Близнец')\n",
    "        if Birth_day>31:\n",
    "            print('Вы ошиблись с числом')\n",
    "if Birth_month=='Июнь':\n",
    "        if Birth_day>=1:\n",
    "            if Birth_day<=20:\n",
    "                print('Вы Близнец')\n",
    "            elif Birth_day>20:\n",
    "                print('Вы Рак')\n",
    "        if Birth_day>30:\n",
    "            print('Вы ошиблись с числом')\n",
    "if Birth_month=='Июль':\n",
    "        if Birth_day>=1:\n",
    "            if Birth_day<=22:\n",
    "                print('Вы Рак')\n",
    "            elif Birth_day>23:\n",
    "                print('Вы Лев')\n",
    "        if Birth_day>31:\n",
    "            print('Вы ошиблись с числом')\n",
    "            \n",
    "if Birth_month=='Август':\n",
    "        if Birth_day>=1:\n",
    "            if Birth_day<=22:\n",
    "                print('Вы Лев')\n",
    "            elif Birth_day>22:\n",
    "                print('Вы Дева')\n",
    "        if Birth_day>31:\n",
    "            print('Вы ошиблись с числом')\n",
    "            \n",
    "if Birth_month=='Сентябрь':\n",
    "        if Birth_day>=1:\n",
    "            if Birth_day<=22:\n",
    "                print('Вы Дева')\n",
    "            elif Birth_day>22:\n",
    "                print('Вы Весы')\n",
    "        if Birth_day>30:\n",
    "            print('Вы ошиблись с числом')\n",
    "if Birth_month=='Октябрь':\n",
    "        if Birth_day>=1:\n",
    "            if Birth_day<=22:\n",
    "                print('Вы Весы')\n",
    "            elif Birth_day>22:\n",
    "                print('Вы Скорпион')\n",
    "        if Birth_day>31:\n",
    "            print('Вы ошиблись с числом')\n",
    "if Birth_month=='Ноябрь':\n",
    "        if Birth_day>=1:\n",
    "            if Birth_day<=21:\n",
    "                print('Вы Скорпион')\n",
    "            elif Birth_day>21:\n",
    "                print('Вы Стрелец')\n",
    "        if 30<Birth_day<1:\n",
    "            print('Вы ошиблись с числом')\n",
    "if Birth_month=='Декабрь':\n",
    "        if Birth_day>=1:\n",
    "            if Birth_day<=21:\n",
    "                print('Вы Стрелец')\n",
    "            elif Birth_day>21:\n",
    "                print('Вы Козерог')\n",
    "        if 31<Birth_day<1:\n",
    "            print('Вы ошиблись с числом')"
   ]
  },
  {
   "cell_type": "code",
   "execution_count": null,
   "metadata": {},
   "outputs": [],
   "source": []
  },
  {
   "cell_type": "code",
   "execution_count": null,
   "metadata": {},
   "outputs": [],
   "source": []
  }
 ],
 "metadata": {
  "kernelspec": {
   "display_name": "Python 3",
   "language": "python",
   "name": "python3"
  },
  "language_info": {
   "codemirror_mode": {
    "name": "ipython",
    "version": 3
   },
   "file_extension": ".py",
   "mimetype": "text/x-python",
   "name": "python",
   "nbconvert_exporter": "python",
   "pygments_lexer": "ipython3",
   "version": "3.8.5"
  }
 },
 "nbformat": 4,
 "nbformat_minor": 4
}
