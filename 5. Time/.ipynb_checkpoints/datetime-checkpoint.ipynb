{
 "cells": [
  {
   "cell_type": "code",
   "execution_count": 21,
   "metadata": {},
   "outputs": [],
   "source": [
    "#Печатные газеты использовали свой формат дат для каждого выпуска. Для каждой газеты из списка напишите формат указанной даты \n",
    "#для перевода в объект datetime:\n",
    "##The Moscow Times - Wednesday, October 2, 2002 \n",
    "#The Guardian - Friday, 11.10.13\n",
    "#Daily News - Thursday, 18 August 1977\n",
    "from datetime import datetime, timedelta\n",
    "\n",
    "moscow_times = datetime.strptime('Wednesday, October 2, 2002','%A, %B %d, %Y')\n",
    "the_guardian = datetime.strptime('Friday, 11.10.13','%A, %m.%d.%y')\n",
    "daily_news = datetime.strptime('Thursday, 18 August 1977','%A, %d %B %Y')\n"
   ]
  },
  {
   "cell_type": "code",
   "execution_count": 20,
   "metadata": {},
   "outputs": [
    {
     "name": "stdout",
     "output_type": "stream",
     "text": [
      "True\n",
      "False\n",
      "False\n",
      "False\n",
      "False\n",
      "False\n",
      "False\n",
      "False\n",
      "True\n"
     ]
    }
   ],
   "source": [
    "#Дан поток дат в формате YYYY-MM-DD, в которых встречаются некорректные значения:\n",
    "stream = ['2018-04-02', '2018-02-29', '2018-19-02', '2018-19-02', '2018-19-02', '2018-19-02', '2018-19-02', '2018-19-02','2018-04-02']\n",
    "#Напишите функцию, которая проверяет эти даты на корректность. Т. е. для каждой даты возвращает True (дата корректна) \n",
    "#или False (некорректная дата).\n",
    "from datetime import datetime\n",
    "\n",
    "def is_correct_date(date_text):\n",
    "    try:\n",
    "        if date_text != datetime.strptime(date_text, \"%Y-%m-%d\").strftime('%Y-%m-%d'):\n",
    "            raise ValueError\n",
    "        print(True)\n",
    "        return True\n",
    "    except ValueError:\n",
    "        print(False)\n",
    "        return False\n",
    "    \n",
    "for i in stream:\n",
    "    is_correct_date(i)"
   ]
  },
  {
   "cell_type": "code",
   "execution_count": 17,
   "metadata": {},
   "outputs": [
    {
     "name": "stdout",
     "output_type": "stream",
     "text": [
      "Введите начальную дату в формате YYYY-MM-DD: 2021-02-31\n",
      "Введите дату окончания в формате YYYY-MM-DD: 2021-02-30\n"
     ]
    },
    {
     "data": {
      "text/plain": [
       "[]"
      ]
     },
     "execution_count": 17,
     "metadata": {},
     "output_type": "execute_result"
    }
   ],
   "source": [
    "#Напишите функцию date_range, которая возвращает список дат за период от start_date до end_date. \n",
    "#$Даты должны вводиться в формате YYYY-MM-DD. \n",
    "#В случае неверного формата или при start_date > end_date должен возвращаться пустой список.\n",
    "\n",
    "from datetime import datetime, timedelta\n",
    "\n",
    "start_date=input('Введите начальную дату в формате YYYY-MM-DD: ')\n",
    "end_date=input('Введите дату окончания в формате YYYY-MM-DD: ')\n",
    "\n",
    "def date_range():\n",
    "    try:\n",
    "        start_date_=datetime.strptime(start_date,'%Y-%m-%d')\n",
    "        end_date_=datetime.strptime(end_date,'%Y-%m-%d')\n",
    "        days=[]\n",
    "        while start_date_<=end_date_:\n",
    "\n",
    "                print_datetime=datetime.strftime(start_date_,'%Y-%m-%d')\n",
    "                days.append(print_datetime)\n",
    "                start_date_+=timedelta(days=1)\n",
    "        return (days)\n",
    "    except ValueError:\n",
    "        return []\n",
    "        print('Неправильно введены даты')\n",
    "        \n",
    "\n",
    "date_range()  "
   ]
  },
  {
   "cell_type": "code",
   "execution_count": null,
   "metadata": {},
   "outputs": [],
   "source": []
  }
 ],
 "metadata": {
  "kernelspec": {
   "display_name": "Python 3",
   "language": "python",
   "name": "python3"
  },
  "language_info": {
   "codemirror_mode": {
    "name": "ipython",
    "version": 3
   },
   "file_extension": ".py",
   "mimetype": "text/x-python",
   "name": "python",
   "nbconvert_exporter": "python",
   "pygments_lexer": "ipython3",
   "version": "3.8.5"
  }
 },
 "nbformat": 4,
 "nbformat_minor": 4
}
