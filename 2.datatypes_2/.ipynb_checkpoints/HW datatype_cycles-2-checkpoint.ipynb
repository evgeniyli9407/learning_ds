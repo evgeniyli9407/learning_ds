{
 "cells": [
  {
   "cell_type": "code",
   "execution_count": 27,
   "metadata": {},
   "outputs": [
    {
     "name": "stdout",
     "output_type": "stream",
     "text": [
      "{98, 35, 15, 213, 54, 119}\n"
     ]
    }
   ],
   "source": [
    "#Дана переменная, в которой хранится словарь, содержащий гео-метки для каждого пользователя (пример структуры данных приведен ниже). Вам необходимо написать программу, которая выведет на экран множество уникальных гео-меток всех пользователей.\n",
    "\n",
    "#Пример работы программы:\n",
    "\n",
    "ids = {'user1': [213, 213, 213, 15, 213], \n",
    "       'user2': [54, 54, 119, 119, 119], \n",
    "       'user3': [213, 98, 98, 35]}\n",
    "a=[]\n",
    "for key,value in ids.items(): \n",
    "    all_geo = [a.append(i) for i in value]\n",
    "\n",
    "print(set(a))\n",
    "    "
   ]
  },
  {
   "cell_type": "code",
   "execution_count": 75,
   "metadata": {},
   "outputs": [
    {
     "name": "stdout",
     "output_type": "stream",
     "text": [
      "Поисковых запросов, содержащих 2 слов(а): 42.86 %\n",
      "Поисковых запросов, содержащих 3 слов(а): 57.14 %\n"
     ]
    }
   ],
   "source": [
    "####\n",
    "#### РЕШЕНИЕ ЭТОГО ЗАДАНИЕ НЕВЕРНОЕ!!! ВЕРНОЕ В САМОМ НИЗУ!\n",
    "#Дана переменная, в которой хранится список поисковых запросов пользователя (пример структуры данных приведен ниже). \n",
    "#Вам необходимо написать программу, которая выведет на экран распределение количества слов в запросах в требуемом виде.\n",
    "#Пример работы программы:\n",
    "\n",
    "queries = [\n",
    "    'смотреть сериалы онлайн',\n",
    "    'новости спорта',\n",
    "    'афиша кино',\n",
    "    'курс доллара',\n",
    "    'сериалы этим летом',\n",
    "    'курс по питону',\n",
    "    'сериалы про спорт',\n",
    "]\n",
    "p = [i for i in queries]\n",
    "count_two_words = 0\n",
    "count_three_words = 0\n",
    "\n",
    "for s in p:\n",
    "    len_sentence = len(s.split())\n",
    "    if len_sentence == 3:\n",
    "        count_three_words +=1\n",
    "    elif len_sentence == 2:\n",
    "        count_two_words +=1\n",
    "        \n",
    "print('Поисковых запросов, содержащих 2 слов(а): '+str(round(count_two_words/len(p)*100,2))+' %\\n'\n",
    "      +'Поисковых запросов, содержащих 3 слов(а): '+str(round(count_three_words/len(p)*100,2))+' %')\n",
    "\n"
   ]
  },
  {
   "cell_type": "code",
   "execution_count": 96,
   "metadata": {},
   "outputs": [
    {
     "name": "stdout",
     "output_type": "stream",
     "text": [
      "adwords : {'revenue': 35, 'cost': 34, 'ROI': 2.94}\n",
      "facebook : {'revenue': 103, 'cost': 110, 'ROI': -6.36}\n",
      "twitter : {'revenue': 11, 'cost': 24, 'ROI': -54.17}\n",
      "vk : {'revenue': 103, 'cost': 98, 'ROI': 5.1}\n",
      "yandex : {'revenue': 179, 'cost': 153, 'ROI': 16.99}\n"
     ]
    }
   ],
   "source": [
    "#Дана переменная, в которой хранится информация о затратах и доходе рекламных кампаний по различным источникам. \n",
    "#Необходимо дополнить исходную структуру показателем ROI, который рассчитаем по формуле: (revenue / cost - 1) * 100\n",
    "\n",
    "#Пример работы программы:\n",
    "\n",
    "results = {\n",
    "    'vk': {'revenue': 103, 'cost': 98},\n",
    "    'yandex': {'revenue': 179, 'cost': 153},\n",
    "    'facebook': {'revenue': 103, 'cost': 110},\n",
    "    'adwords': {'revenue': 35, 'cost': 34},\n",
    "    'twitter': {'revenue': 11, 'cost': 24},\n",
    "}\n",
    "\n",
    "for key,value in results.items():\n",
    "    roi = round((value['revenue']/value['cost']-1)*100,2)\n",
    "    value.setdefault('ROI', roi)\n",
    "\n",
    "list_keys = list(results.keys())\n",
    "list_keys.sort()\n",
    "for i in list_keys:\n",
    "    print(i, ':', results[i])"
   ]
  },
  {
   "cell_type": "code",
   "execution_count": 131,
   "metadata": {},
   "outputs": [
    {
     "name": "stdout",
     "output_type": "stream",
     "text": [
      "Максимальный объем продаж на рекламном канале: vk\n"
     ]
    }
   ],
   "source": [
    " #Дана переменная, в которой хранится статистика рекламных каналов по объемам продаж (пример структуры данных приведен ниже). \n",
    "#Напишите программу, которая возвращает название канала с максимальным объемом продаж.\n",
    "\n",
    "stats = {'facebook': 55, 'yandex': 115, 'vk': 120, 'google': 99, 'email': 42, 'ok': 98}\n",
    "\n",
    "max_val = max(stats.values())\n",
    "final_dict = {key:value for key, value in stats.items() if value == max_val}\n",
    "k, v = list(final_dict.items())[0]\n",
    "\n",
    "print('Максимальный объем продаж на рекламном канале: '+ str(k))"
   ]
  },
  {
   "cell_type": "code",
   "execution_count": 33,
   "metadata": {},
   "outputs": [
    {
     "name": "stdout",
     "output_type": "stream",
     "text": [
      "Поисковых запросов, содержащих 3 слов(а): 4\n",
      "Поисковых запросов, содержащих 2 слов(а): 3\n"
     ]
    }
   ],
   "source": [
    "#Дана переменная, в которой хранится список поисковых запросов пользователя (пример структуры данных приведен ниже). \n",
    "#Вам необходимо написать программу, которая выведет на экран распределение количества слов в запросах в требуемом виде.\n",
    "#Пример работы программы:\n",
    "# !!!!!!!!!!!!!!!!!Переделанное решение!!!!!!!!!!!!!!!!!!!!!!!!!!!!!\n",
    "queries = [\n",
    "    'смотреть сериалы онлайн',\n",
    "    'новости спорта',\n",
    "    'афиша кино',\n",
    "    'курс доллара',\n",
    "    'сериалы этим летом',\n",
    "    'курс по питону',\n",
    "    'сериалы про спорт',\n",
    "]\n",
    "list_=[]\n",
    "for i in queries:\n",
    "    list_.append(len(i.split()))\n",
    "    \n",
    "my_dict = {s:list_.count(s) for s in list_}\n",
    "\n",
    "for key,value in my_dict.items():\n",
    "    print('Поисковых запросов, содержащих '+ str(key)+ ' слов(а): '+ str(value))"
   ]
  },
  {
   "cell_type": "code",
   "execution_count": null,
   "metadata": {},
   "outputs": [],
   "source": []
  }
 ],
 "metadata": {
  "kernelspec": {
   "display_name": "Python 3",
   "language": "python",
   "name": "python3"
  },
  "language_info": {
   "codemirror_mode": {
    "name": "ipython",
    "version": 3
   },
   "file_extension": ".py",
   "mimetype": "text/x-python",
   "name": "python",
   "nbconvert_exporter": "python",
   "pygments_lexer": "ipython3",
   "version": "3.8.5"
  }
 },
 "nbformat": 4,
 "nbformat_minor": 4
}
