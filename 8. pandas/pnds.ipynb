{
 "cells": [
  {
   "cell_type": "code",
   "execution_count": 1,
   "metadata": {},
   "outputs": [],
   "source": [
    "import pandas as pd\n"
   ]
  },
  {
   "cell_type": "code",
   "execution_count": 18,
   "metadata": {},
   "outputs": [
    {
     "data": {
      "text/plain": [
       "318    39553\n",
       "Name: movieId, dtype: int64"
      ]
     },
     "execution_count": 18,
     "metadata": {},
     "output_type": "execute_result"
    }
   ],
   "source": [
    "#Определите какому фильму было выставлено больше всего оценок 5.0.\n",
    "data = pd.read_csv('ratings.csv')\n",
    "data['movieId'][data['rating']==5.0].value_counts().head(1)"
   ]
  },
  {
   "cell_type": "code",
   "execution_count": 56,
   "metadata": {},
   "outputs": [
    {
     "data": {
      "text/plain": [
       "240580.0"
      ]
     },
     "execution_count": 56,
     "metadata": {},
     "output_type": "execute_result"
    }
   ],
   "source": [
    "#По данным файла power.csv посчитайте суммарное потребление \n",
    "#стран Прибалтики (Латвия, Литва и Эстония) категорий 4, 12 и 21 за период с 2005 по 2010 года. \n",
    "#Не учитывайте в расчетах отрицательные значения quantity\n",
    "\n",
    "data_count = pd.read_csv('power.csv')\n",
    "cat = data_count[((data_count['category']==4)|(data_count['category']==12)|(data_count['category']==21))&((data_count.year>=2005)&(data_count.year <= 2010))&(data_count['country'].str.contains('lithuania', case=False)|data_count['country'].str.contains('Latvia', case=False)|data_count['country'].str.contains('estonia', case=False))&(data_count['quantity']>0)]\n",
    "cat['quantity'].sum()"
   ]
  },
  {
   "cell_type": "code",
   "execution_count": 79,
   "metadata": {},
   "outputs": [
    {
     "data": {
      "text/html": [
       "<div>\n",
       "<style scoped>\n",
       "    .dataframe tbody tr th:only-of-type {\n",
       "        vertical-align: middle;\n",
       "    }\n",
       "\n",
       "    .dataframe tbody tr th {\n",
       "        vertical-align: top;\n",
       "    }\n",
       "\n",
       "    .dataframe thead th {\n",
       "        text-align: right;\n",
       "    }\n",
       "</style>\n",
       "<table border=\"1\" class=\"dataframe\">\n",
       "  <thead>\n",
       "    <tr style=\"text-align: right;\">\n",
       "      <th></th>\n",
       "      <th>0</th>\n",
       "      <th>1</th>\n",
       "      <th>2</th>\n",
       "      <th>3</th>\n",
       "    </tr>\n",
       "  </thead>\n",
       "  <tbody>\n",
       "    <tr>\n",
       "      <th>0</th>\n",
       "      <td>1.0</td>\n",
       "      <td>Газпром</td>\n",
       "      <td>258.0100</td>\n",
       "      <td>↓ -0.44%</td>\n",
       "    </tr>\n",
       "    <tr>\n",
       "      <th>1</th>\n",
       "      <td>2.0</td>\n",
       "      <td>Сбербанк России</td>\n",
       "      <td>301.3500</td>\n",
       "      <td>↑ +1.59%</td>\n",
       "    </tr>\n",
       "    <tr>\n",
       "      <th>2</th>\n",
       "      <td>3.0</td>\n",
       "      <td>Норильский никель</td>\n",
       "      <td>27072.0000</td>\n",
       "      <td>↓ 0%</td>\n",
       "    </tr>\n",
       "    <tr>\n",
       "      <th>3</th>\n",
       "      <td>4.0</td>\n",
       "      <td>Магнит</td>\n",
       "      <td>5298.5000</td>\n",
       "      <td>↑ +2.7%</td>\n",
       "    </tr>\n",
       "    <tr>\n",
       "      <th>4</th>\n",
       "      <td>5.0</td>\n",
       "      <td>ЛУКОЙЛ</td>\n",
       "      <td>5797.5000</td>\n",
       "      <td>↑ +1.5%</td>\n",
       "    </tr>\n",
       "    <tr>\n",
       "      <th>5</th>\n",
       "      <td>6.0</td>\n",
       "      <td>Северсталь</td>\n",
       "      <td>1782.2000</td>\n",
       "      <td>↓ -1.7%</td>\n",
       "    </tr>\n",
       "    <tr>\n",
       "      <th>6</th>\n",
       "      <td>7.0</td>\n",
       "      <td>Роснефть</td>\n",
       "      <td>525.8000</td>\n",
       "      <td>↑ +1.68%</td>\n",
       "    </tr>\n",
       "    <tr>\n",
       "      <th>7</th>\n",
       "      <td>8.0</td>\n",
       "      <td>ММК</td>\n",
       "      <td>65.5600</td>\n",
       "      <td>↑ +0.25%</td>\n",
       "    </tr>\n",
       "    <tr>\n",
       "      <th>8</th>\n",
       "      <td>9.0</td>\n",
       "      <td>Банк ВТБ</td>\n",
       "      <td>0.0456</td>\n",
       "      <td>↓ -1.45%</td>\n",
       "    </tr>\n",
       "    <tr>\n",
       "      <th>9</th>\n",
       "      <td>10.0</td>\n",
       "      <td>Yandex</td>\n",
       "      <td>4771.4000</td>\n",
       "      <td>↑ +0.4%</td>\n",
       "    </tr>\n",
       "  </tbody>\n",
       "</table>\n",
       "</div>"
      ],
      "text/plain": [
       "      0                  1           2         3\n",
       "0   1.0            Газпром    258.0100  ↓ -0.44%\n",
       "1   2.0    Сбербанк России    301.3500  ↑ +1.59%\n",
       "2   3.0  Норильский никель  27072.0000      ↓ 0%\n",
       "3   4.0             Магнит   5298.5000   ↑ +2.7%\n",
       "4   5.0             ЛУКОЙЛ   5797.5000   ↑ +1.5%\n",
       "5   6.0         Северсталь   1782.2000   ↓ -1.7%\n",
       "6   7.0           Роснефть    525.8000  ↑ +1.68%\n",
       "7   8.0                ММК     65.5600  ↑ +0.25%\n",
       "8   9.0           Банк ВТБ      0.0456  ↓ -1.45%\n",
       "9  10.0             Yandex   4771.4000   ↑ +0.4%"
      ]
     },
     "execution_count": 79,
     "metadata": {},
     "output_type": "execute_result"
    }
   ],
   "source": [
    "page_url = 'https://broker.ru/quotes'\n",
    "pd.read_html('http://tikr.ru/stock/')[1]\n"
   ]
  },
  {
   "cell_type": "code",
   "execution_count": null,
   "metadata": {},
   "outputs": [],
   "source": []
  }
 ],
 "metadata": {
  "kernelspec": {
   "display_name": "Python 3",
   "language": "python",
   "name": "python3"
  },
  "language_info": {
   "codemirror_mode": {
    "name": "ipython",
    "version": 3
   },
   "file_extension": ".py",
   "mimetype": "text/x-python",
   "name": "python",
   "nbconvert_exporter": "python",
   "pygments_lexer": "ipython3",
   "version": "3.8.5"
  }
 },
 "nbformat": 4,
 "nbformat_minor": 4
}
