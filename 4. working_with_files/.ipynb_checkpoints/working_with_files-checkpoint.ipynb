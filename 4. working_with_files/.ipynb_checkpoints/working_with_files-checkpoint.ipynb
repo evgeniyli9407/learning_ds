{
 "cells": [
  {
   "cell_type": "code",
   "execution_count": 3,
   "metadata": {},
   "outputs": [],
   "source": [
    "#Переведите содержимое файла purchase_log.txt в словарь purchases вида:\n",
    "#{‘1840e0b9d4’: ‘Продукты’, …}\n",
    "import json\n",
    "\n",
    "purchases={}\n",
    "with open('purchase_log.txt', 'r', encoding='utf-8') as f:\n",
    "    for line in f:\n",
    "        dct = json.loads(line.strip())\n",
    "        key = dct['user_id']\n",
    "        val = dct['category']\n",
    "        purchases.setdefault(key,val)\n",
    "with open('pchs.txt', 'w', encoding='utf-8') as g:\n",
    "    g.write(str(purchases))"
   ]
  },
  {
   "cell_type": "code",
   "execution_count": 20,
   "metadata": {},
   "outputs": [],
   "source": [
    "#task_2\n",
    "with open('visit_log.csv', 'r') as f, open('funnel.csv', 'w') as new_f:\n",
    "        for row in f:\n",
    "            line_list=row.strip().split(',')\n",
    "            if line_list[0] in purchases.keys():\n",
    "                line_list.append(purchases[line_list[0]])\n",
    "                add_line=','.join(line_list)\n",
    "            elif line_list[0]=='user_id':\n",
    "                line_list.append('category')\n",
    "                add_line=','.join(line_list)\n",
    "            else:\n",
    "                add_line=','.join(line_list)\n",
    "            if len(add_line.split(','))>2:\n",
    "                new_f.write(add_line+'\\n')\n",
    "            "
   ]
  },
  {
   "cell_type": "code",
   "execution_count": 13,
   "metadata": {},
   "outputs": [],
   "source": []
  },
  {
   "cell_type": "code",
   "execution_count": null,
   "metadata": {},
   "outputs": [],
   "source": []
  }
 ],
 "metadata": {
  "kernelspec": {
   "display_name": "Python 3",
   "language": "python",
   "name": "python3"
  },
  "language_info": {
   "codemirror_mode": {
    "name": "ipython",
    "version": 3
   },
   "file_extension": ".py",
   "mimetype": "text/x-python",
   "name": "python",
   "nbconvert_exporter": "python",
   "pygments_lexer": "ipython3",
   "version": "3.8.5"
  }
 },
 "nbformat": 4,
 "nbformat_minor": 4
}
