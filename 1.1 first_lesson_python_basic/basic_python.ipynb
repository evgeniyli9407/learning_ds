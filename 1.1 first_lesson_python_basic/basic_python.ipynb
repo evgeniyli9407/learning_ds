{
 "cells": [
  {
   "cell_type": "code",
   "execution_count": 7,
   "metadata": {},
   "outputs": [
    {
     "name": "stdout",
     "output_type": "stream",
     "text": [
      "Фразы равной длины\n"
     ]
    }
   ],
   "source": [
    "#Задание 1\n",
    "#Даны 2 переменных, в которых хранятся строки произвольной длины: phrase_1 и phrase_2.\n",
    "#Напишите код, который проверяет какая из этих строк длиннее.\n",
    "\n",
    "phrase_1 = 'Насколько проще было бы писать программы, если бы не заказчики'\n",
    "phrase_2 = 'Насколько проще было бы писать программы, если бы не заказчики'\n",
    "\n",
    "if len(phrase_1)>len(phrase_2):\n",
    "    print('Фраза 1 длиннее фразы 2')\n",
    "elif len(phrase_1) == len(phrase_2):\n",
    "    print('Фразы равной длины')\n",
    "    \n",
    "else:\n",
    "    print('Фраза 2 длиннее фразы 1')\n",
    "    \n"
   ]
  },
  {
   "cell_type": "code",
   "execution_count": 8,
   "metadata": {},
   "outputs": [
    {
     "name": "stdout",
     "output_type": "stream",
     "text": [
      "Введите год: 2021\n",
      "Год НЕ високосный\n"
     ]
    }
   ],
   "source": [
    "#Дана переменная, в которой хранится четырехзначное число (год).\n",
    "#Необходимо написать программу, которая выведет, является ли данный год високосным или обычным.\n",
    "\n",
    "check_year = int(input('Введите год: '))\n",
    "\n",
    "if check_year%4 ==0:\n",
    "    print('Год високосный')\n",
    "else: \n",
    "    print('Год НЕ високосный')"
   ]
  },
  {
   "cell_type": "code",
   "execution_count": 5,
   "metadata": {},
   "outputs": [
    {
     "name": "stdout",
     "output_type": "stream",
     "text": [
      "Введите название месяца рождения: Май\n",
      "Введите день рождения: 13\n",
      "Вы Телец\n"
     ]
    }
   ],
   "source": [
    "#Задание 3\n",
    "#Необходимо написать программу, \n",
    "#которая будет запрашивать у пользователя месяц и дату рождения и выводить соответствующий знак зодиака.\n",
    "\n",
    "Birth_month = input('Введите название месяца рождения: ')\n",
    "Birth_day = int(input('Введите день рождения: '))\n",
    "    \n",
    "if Birth_month=='Январь':\n",
    "        if Birth_day>=1:\n",
    "            if Birth_day<=19:\n",
    "                print('Вы Козерог')\n",
    "            elif Birth_day>19:\n",
    "                print('Вы Водолей')\n",
    "        if Birth_day>31:\n",
    "            print('Вы ошиблись с числом')\n",
    "if Birth_month=='Февраль':\n",
    "        if Birth_day>=1:\n",
    "            if Birth_day<=18:\n",
    "                print('Вы Водолей')\n",
    "            elif Birth_day>19:\n",
    "                print('Вы Рыба')\n",
    "        if Birth_day>28:\n",
    "            print('Вы ошиблись с числом')\n",
    "if Birth_month=='Март':\n",
    "        if Birth_day>=1:\n",
    "            if Birth_day<=19:\n",
    "                print('Вы Рыба')\n",
    "            elif Birth_day>20:\n",
    "                print('Вы Овен')\n",
    "        if Birth_day>31:\n",
    "            print('Вы ошиблись с числом')\n",
    "if Birth_month=='Апрель':\n",
    "        if Birth_day>=1:\n",
    "            if Birth_day<=20:\n",
    "                print('Вы Овен')\n",
    "            elif Birth_day>20:\n",
    "                print('Вы Телец')\n",
    "        if Birth_day>30:\n",
    "            print('Вы ошиблись с числом')\n",
    "if Birth_month=='Май':\n",
    "        if Birth_day>=1:\n",
    "            if Birth_day<=20:\n",
    "                print('Вы Телец')\n",
    "            elif Birth_day>20:\n",
    "                print('Вы Близнец')\n",
    "        if Birth_day>31:\n",
    "            print('Вы ошиблись с числом')\n",
    "if Birth_month=='Июнь':\n",
    "        if Birth_day>=1:\n",
    "            if Birth_day<=20:\n",
    "                print('Вы Близнец')\n",
    "            elif Birth_day>20:\n",
    "                print('Вы Рак')\n",
    "        if Birth_day>30:\n",
    "            print('Вы ошиблись с числом')\n",
    "if Birth_month=='Июль':\n",
    "        if Birth_day>=1:\n",
    "            if Birth_day<=22:\n",
    "                print('Вы Рак')\n",
    "            elif Birth_day>23:\n",
    "                print('Вы Лев')\n",
    "        if Birth_day>31:\n",
    "            print('Вы ошиблись с числом')\n",
    "            \n",
    "if Birth_month=='Август':\n",
    "        if Birth_day>=1:\n",
    "            if Birth_day<=22:\n",
    "                print('Вы Лев')\n",
    "            elif Birth_day>22:\n",
    "                print('Вы Дева')\n",
    "        if Birth_day>31:\n",
    "            print('Вы ошиблись с числом')\n",
    "            \n",
    "if Birth_month=='Сентябрь':\n",
    "        if Birth_day>=1:\n",
    "            if Birth_day<=22:\n",
    "                print('Вы Дева')\n",
    "            elif Birth_day>22:\n",
    "                print('Вы Весы')\n",
    "        if Birth_day>30:\n",
    "            print('Вы ошиблись с числом')\n",
    "if Birth_month=='Октябрь':\n",
    "        if Birth_day>=1:\n",
    "            if Birth_day<=22:\n",
    "                print('Вы Весы')\n",
    "            elif Birth_day>22:\n",
    "                print('Вы Скорпион')\n",
    "        if Birth_day>31:\n",
    "            print('Вы ошиблись с числом')\n",
    "if Birth_month=='Ноябрь':\n",
    "        if Birth_day>=1:\n",
    "            if Birth_day<=21:\n",
    "                print('Вы Скорпион')\n",
    "            elif Birth_day>21:\n",
    "                print('Вы Стрелец')\n",
    "        if 30<Birth_day<1:\n",
    "            print('Вы ошиблись с числом')\n",
    "if Birth_month=='Декабрь':\n",
    "        if Birth_day>=1:\n",
    "            if Birth_day<=21:\n",
    "                print('Вы Стрелец')\n",
    "            elif Birth_day>21:\n",
    "                print('Вы Козерог')\n",
    "        if 31<Birth_day<1:\n",
    "            print('Вы ошиблись с числом')"
   ]
  },
  {
   "cell_type": "code",
   "execution_count": 3,
   "metadata": {},
   "outputs": [
    {
     "name": "stdout",
     "output_type": "stream",
     "text": [
      "Введите  ширину в см: 10\n",
      "Введите  длину в см: 10\n",
      "Введите  высоту в см: 203\n",
      "Упаковка для лыж\n"
     ]
    }
   ],
   "source": [
    "#Вам нужно написать программу для подбора упаковок по размерам товара. Размеры хранятся в переменных (в сантиметрах):\n",
    "\n",
    "width = input('Введите  ширину в см: ')\n",
    "length = input('Введите  длину в см: ')\n",
    "height = input('Введите  высоту в см: ')\n",
    "if (width.isnumeric() and length.isnumeric() and height.isnumeric()):\n",
    "        width = int(width)\n",
    "        length = int(length)\n",
    "        height = int(height)\n",
    "        \n",
    "else:\n",
    "        print('Вводить можно только числа!')\n",
    "        width = input('Введите  ширину в см: ')\n",
    "        length = input('Введите  длину в см: ')\n",
    "        height = input('Введите  высоту в см: ')\n",
    "    \n",
    "if (width > 200 or length > 200 or height > 200):\n",
    "    print('Упаковка для лыж')\n",
    "elif (width <= 15 and length <= 15 and height <= 15):\n",
    "    print('Коробка№1')\n",
    "elif (15 < width <= 50 or 15 < length <= 50  or 15 < height <= 50):\n",
    "    print('Коробка№2')\n",
    "else:\n",
    "    print('Коробка№3')\n"
   ]
  },
  {
   "cell_type": "code",
   "execution_count": null,
   "metadata": {},
   "outputs": [],
   "source": []
  }
 ],
 "metadata": {
  "kernelspec": {
   "display_name": "Python 3",
   "language": "python",
   "name": "python3"
  },
  "language_info": {
   "codemirror_mode": {
    "name": "ipython",
    "version": 3
   },
   "file_extension": ".py",
   "mimetype": "text/x-python",
   "name": "python",
   "nbconvert_exporter": "python",
   "pygments_lexer": "ipython3",
   "version": "3.8.5"
  }
 },
 "nbformat": 4,
 "nbformat_minor": 4
}
