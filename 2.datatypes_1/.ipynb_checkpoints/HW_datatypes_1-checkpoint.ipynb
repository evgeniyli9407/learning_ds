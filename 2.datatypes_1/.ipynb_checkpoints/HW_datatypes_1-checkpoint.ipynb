{
 "cells": [
  {
   "cell_type": "code",
   "execution_count": 43,
   "metadata": {},
   "outputs": [
    {
     "name": "stdout",
     "output_type": "stream",
     "text": [
      "Введите слово: asdewq\n",
      "de\n"
     ]
    }
   ],
   "source": [
    "#Дана переменная, в которой хранится слово из латинских букв. Напишите код, который выводит на экран:\n",
    "\n",
    "#среднюю букву, если число букв в слове нечетное;\n",
    "#две средних буквы, если число букв четное.\n",
    "\n",
    "full_word = input('Введите слово: ')\n",
    "\n",
    "for i in full_word:\n",
    "    a=[]\n",
    "    middle_letter=int(len(full_word)/2)\n",
    "    if len(full_word) % 2==0:\n",
    "        \n",
    "        a.append(full_word[middle_letter-1]+full_word[middle_letter])\n",
    "    else:\n",
    "        a.append(full_word[middle_letter])\n",
    "        \n",
    "print(''.join(a))\n",
    "    "
   ]
  },
  {
   "cell_type": "markdown",
   "metadata": {},
   "source": [
    "\n",
    "\n",
    "\n"
   ]
  },
  {
   "cell_type": "code",
   "execution_count": 49,
   "metadata": {},
   "outputs": [
    {
     "name": "stdout",
     "output_type": "stream",
     "text": [
      "введите число: 234\n",
      "введите число: 30\n",
      "введите число: 0\n",
      "Сумма всех введенных чисел: 264\n"
     ]
    }
   ],
   "source": [
    "#Напишите программу, которая последовательно запрашивает у пользователя числа (по одному за раз) и после первого нуля выводит \n",
    "#сумму всех ранее введенных чисел.\n",
    "num=0\n",
    "while True:\n",
    "    i =int(input('введите число: '))\n",
    "    if i !=0:\n",
    "        num+=i\n",
    "    else:\n",
    "        print('Сумма всех введенных чисел: '+str(num))\n",
    "        break"
   ]
  },
  {
   "cell_type": "code",
   "execution_count": 100,
   "metadata": {},
   "outputs": [
    {
     "name": "stdout",
     "output_type": "stream",
     "text": [
      "Внимание! Кто-то может остаться без пары!\n"
     ]
    }
   ],
   "source": [
    "boys = ['Peter', 'Alex', 'Arthur', 'Richard']\n",
    "girls = ['Kate', 'Liza', 'Kira', 'Emma', 'Trisha']\n",
    "\n",
    "if len(boys)==len(girls):\n",
    "    sorted_list = list(zip(sorted(boys),sorted(girls)))\n",
    "    print('Идеальные пары:')\n",
    "    for i in sorted_list:\n",
    "        couples = i[0] +\" и \"+ i[1]\n",
    "        print(couples)\n",
    "else:\n",
    "    print('Внимание! Кто-то может остаться без пары!')\n",
    "        "
   ]
  },
  {
   "cell_type": "code",
   "execution_count": 115,
   "metadata": {},
   "outputs": [
    {
     "name": "stdout",
     "output_type": "stream",
     "text": [
      "Средняя температура в странах: \n",
      "Thailand - 23.85714285714285 C\n",
      "Germany - 13.799999999999999 C\n",
      "Russia - 3.714285714285717 C\n",
      "Poland - 11.999999999999996 C\n"
     ]
    }
   ],
   "source": [
    "#У нас есть список, содержащий информацию о среднедневной температуре в Фаренгейтах #\n",
    "#за произвольный период по странам (структура данных в примере). \n",
    "#Необходимо написать код, который рассчитает среднюю температуру за период в Цельсиях(!) для каждой страны.\n",
    "\n",
    "countries_temperature = [\n",
    "    ['Thailand', [75.2, 77, 78.8, 73.4, 68, 75.2, 77]],\n",
    "    ['Germany', [57.2, 55.4, 59, 59, 53.6]],\n",
    "    ['Russia', [35.6, 37.4, 39.2, 41, 42.8, 39.2, 35.6]],\n",
    "    ['Poland', [50, 50, 53.6, 57.2, 55.4, 55.4]]\n",
    "]\n",
    "print('Средняя температура в странах: ')\n",
    "for i in countries_temperature:\n",
    "    avg_celc_temp = ((sum(i[1])/len(i[1])) - 32) * 5/9 \n",
    "    print(i[0]+ ' - ' + str(avg_celc_temp) + ' C')"
   ]
  },
  {
   "cell_type": "code",
   "execution_count": 133,
   "metadata": {},
   "outputs": [
    {
     "name": "stdout",
     "output_type": "stream",
     "text": [
      "['user1']\n",
      "['user1']\n",
      "['user1']\n",
      "['user1']\n",
      "['user2']\n",
      "['user3']\n",
      "['user3']\n",
      "['user4']\n",
      "['user4']\n",
      "['user4']\n",
      "['user4']\n",
      "['user4']\n"
     ]
    }
   ],
   "source": [
    "#Дан поток логов по количеству просмотренных страниц для каждого пользователя. \n",
    "#Вам необходимо написать алгоритм, который считает среднее значение просмотров на пользователя. \n",
    "#Т. е. надо посчитать отношение суммы всех просмотров к количеству уникальных пользователей.\n",
    "\n",
    "stream = [\n",
    "    '2018-01-01,user1,3',\n",
    "    '2018-01-07,user1,4',\n",
    "    '2018-03-29,user1,1',\n",
    "    '2018-04-04,user1,13',\n",
    "    '2018-01-05,user2,7',\n",
    "    '2018-06-14,user3,4',\n",
    "    '2018-07-02,user3,10',\n",
    "    '2018-03-21,user4,19',\n",
    "    '2018-03-22,user4,4',\n",
    "    '2018-04-22,user4,8',\n",
    "    '2018-05-03,user4,9',\n",
    "    '2018-05-11,user4,11',\n",
    "]\n",
    "for i in stream:\n",
    "    users = []\n",
    "    a = i.split(',')[1]\n",
    "    if i != a:\n",
    "        users.append(a)\n",
    "        print(users)"
   ]
  },
  {
   "cell_type": "code",
   "execution_count": 147,
   "metadata": {},
   "outputs": [
    {
     "name": "stdout",
     "output_type": "stream",
     "text": [
      "Пожалуйста, введите числа, разделяя их пробелами: 4 8 0 3 4 2 0 3\n",
      "0 \n",
      "2 \n",
      "3 \n",
      "4 \n",
      "8 \n"
     ]
    }
   ],
   "source": [
    "#Необходимо у пользователя запрашивать набор чисел разделенных пробелом. \n",
    "#В результате в отсортированном порядке должны выводиться числа, которые повторяются в вводе более одного раза.\n",
    "\n",
    "num_with_space = input('Пожалуйста, введите числа, разделяя их пробелами: ')\n",
    "non_space_num = sorted(list(set(num_with_space.split())))\n",
    "for i in non_space_num:\n",
    "    print(i + ' ')"
   ]
  },
  {
   "cell_type": "code",
   "execution_count": null,
   "metadata": {},
   "outputs": [],
   "source": []
  },
  {
   "cell_type": "code",
   "execution_count": null,
   "metadata": {},
   "outputs": [],
   "source": []
  }
 ],
 "metadata": {
  "kernelspec": {
   "display_name": "Python 3",
   "language": "python",
   "name": "python3"
  },
  "language_info": {
   "codemirror_mode": {
    "name": "ipython",
    "version": 3
   },
   "file_extension": ".py",
   "mimetype": "text/x-python",
   "name": "python",
   "nbconvert_exporter": "python",
   "pygments_lexer": "ipython3",
   "version": "3.8.5"
  }
 },
 "nbformat": 4,
 "nbformat_minor": 4
}
