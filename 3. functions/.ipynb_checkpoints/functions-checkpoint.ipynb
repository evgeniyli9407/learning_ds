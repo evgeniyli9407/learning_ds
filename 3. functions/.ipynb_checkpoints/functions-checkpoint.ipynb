{
 "cells": [
  {
   "cell_type": "code",
   "execution_count": 29,
   "metadata": {},
   "outputs": [
    {
     "name": "stdout",
     "output_type": "stream",
     "text": [
      "Введите команду: в\n",
      "Непонятная команда, проверьте правильность\n",
      "Введите команду: ва\n",
      "Непонятная команда, проверьте правильность\n",
      "Введите команду: ыва\n",
      "Непонятная команда, проверьте правильность\n",
      "Введите команду: q\n"
     ]
    }
   ],
   "source": [
    "#перечень всех документов\n",
    "documents = [\n",
    " {'type': 'passport', 'number': '2207 876234', 'name': 'Василий Гупкин'},\n",
    " {'type': 'invoice', 'number': '11-2', 'name': 'Геннадий Покемонов'},\n",
    " {'type': 'insurance', 'number': '10006', 'name': 'Аристарх Павлов'}\n",
    "]\n",
    "#перечень полок, на которых хранятся документы (если документ есть в documents, то он обязательно должен быть и в directories)\n",
    "directories = {\n",
    " '1': ['2207 876234', '11-2'],\n",
    " '2': ['10006'],\n",
    " '3': []\n",
    "}\n",
    "\n",
    "\n",
    "def main():\n",
    "    while True:\n",
    "        command = input('Введите команду: ')\n",
    "        if command == 'q':\n",
    "            print('Пока-пока!')\n",
    "            break\n",
    "        elif command =='p':\n",
    "            search_document_owner()\n",
    "        elif command == 's':\n",
    "            search_shelf() \n",
    "        elif command == 'l':  \n",
    "            all_info()\n",
    "        else:\n",
    "            print('Непонятная команда, проверьте правильность')\n",
    "\n",
    "def search_document_owner():\n",
    "    command = input('Введите номер документа: ')\n",
    "    owner = []\n",
    "    for i in documents:\n",
    "        if command == i['number']:\n",
    "            owner.append(i['name'])\n",
    "    if owner ==[]:\n",
    "        print ('Такого документа нет')\n",
    "        main()\n",
    "        \n",
    "    else:\n",
    "        print(  ('Владелец документа:  %s.' % ', '.join(owner)))\n",
    "        main()\n",
    "\n",
    "def search_shelf():\n",
    "    command = input('Введите номер документа: ')\n",
    "    shelf=[]\n",
    "    for shelfs,doc in directories.items():\n",
    "        for num in doc:\n",
    "            if num==command:\n",
    "                shelf.append(shelfs)\n",
    "    if shelf==[]:\n",
    "            print(('Такого документа нет на полках'))\n",
    "            main()\n",
    "    else:\n",
    "        print ('Номер полки:  %s.' % ', '.join(shelf))\n",
    "        main()\n",
    "    \n",
    "def all_info():\n",
    "    \n",
    "    "
   ]
  },
  {
   "cell_type": "code",
   "execution_count": null,
   "metadata": {},
   "outputs": [],
   "source": []
  },
  {
   "cell_type": "code",
   "execution_count": null,
   "metadata": {},
   "outputs": [],
   "source": []
  }
 ],
 "metadata": {
  "kernelspec": {
   "display_name": "Python 3",
   "language": "python",
   "name": "python3"
  },
  "language_info": {
   "codemirror_mode": {
    "name": "ipython",
    "version": 3
   },
   "file_extension": ".py",
   "mimetype": "text/x-python",
   "name": "python",
   "nbconvert_exporter": "python",
   "pygments_lexer": "ipython3",
   "version": "3.8.5"
  }
 },
 "nbformat": 4,
 "nbformat_minor": 4
}
