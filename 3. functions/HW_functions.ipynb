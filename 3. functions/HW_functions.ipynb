{
 "cells": [
  {
   "cell_type": "code",
   "execution_count": 8,
   "metadata": {},
   "outputs": [
    {
     "name": "stdout",
     "output_type": "stream",
     "text": [
      "Введите команду: dfFQ\n",
      "Введите команду: Q\n"
     ]
    }
   ],
   "source": [
    "#Общие требования к программе:\n",
    "#код должен быть грамотно декомпозирован (каждая функция отвечает за свою конкретную задачу, \n",
    "#дублирующийся функционал переиспользуется, а его код не повторяется);\n",
    "#в коде отсутствуют глобальные переменные (за исключением documents и directories);\n",
    "#пользовательский ввод обрабатывается в цикле while до тех пор, пока пользователь явно не завершит программу \n",
    "#(вводом команды \"q\").\n",
    "\n",
    "documents = [\n",
    " {'type': 'passport', 'number': '2207 876234', 'name': 'Василий Гупкин'},\n",
    " {'type': 'invoice', 'number': '11-2', 'name': 'Геннадий Покемонов'},\n",
    " {'type': 'insurance', 'number': '10006', 'name': 'Аристарх Павлов'}\n",
    "]\n",
    "\n",
    "directories = {\n",
    " '1': ['2207 876234', '11-2'],\n",
    " '2': ['10006'],\n",
    " '3': []\n",
    "}\n",
    "\n",
    "\n",
    "#Пользователь по команде \"p\" может узнать владельца документа по его номеру\n",
    "def doc_number():\n",
    "    \n",
    "\n",
    "\n",
    "def start():\n",
    "    while True:\n",
    "        command = input('Введите команду: ').lower()\n",
    "        if command == 'q':\n",
    "            break\n",
    "        \n"
   ]
  },
  {
   "cell_type": "code",
   "execution_count": null,
   "metadata": {},
   "outputs": [],
   "source": []
  }
 ],
 "metadata": {
  "kernelspec": {
   "display_name": "Python 3",
   "language": "python",
   "name": "python3"
  },
  "language_info": {
   "codemirror_mode": {
    "name": "ipython",
    "version": 3
   },
   "file_extension": ".py",
   "mimetype": "text/x-python",
   "name": "python",
   "nbconvert_exporter": "python",
   "pygments_lexer": "ipython3",
   "version": "3.8.5"
  }
 },
 "nbformat": 4,
 "nbformat_minor": 4
}
